{
 "cells": [
  {
   "cell_type": "markdown",
   "metadata": {},
   "source": [
    "# Preface\n",
    "\n",
    "Prepare to embark on an unprecedented journey! This book was written in a whirlwind—a mere day and a half of concentrated creation. Subsequent edits and visuals were meticulously layered to enhance the narrative and provide clarity.\n",
    "\n",
    "Humans are bound by biological constraints in perception, processing, and power. \n",
    "\n",
    "Machines, however, defy these limitations, unlocking a realm of possibilities we are only beginning to fathom. The true boundaries of intelligence remain an enigma, as machines extend the frontiers of what can be achieved.\n",
    "\n",
    "<iframe \n",
    "    src=\"https://www.youtube.com/embed/Xt4cMYg43cA\" \n",
    "    width=\"560\" \n",
    "    height=\"315\" \n",
    "    frameborder=\"0\" \n",
    "    allow=\"accelerometer; autoplay; clipboard-write; encrypted-media; gyroscope; picture-in-picture\" \n",
    "    allowfullscreen \n",
    "    title=\"YouTube video player\">\n",
    "</iframe>\n",
    "\n",
    "```{figure} figures/blanche.*\n",
    "---\n",
    "width: 1\n",
    "height: 1\n",
    "---\n",
    "_BEYOND GPT MODELS — WHAT IS THE DECADE AHEAD?_ In this episode, Peter is joined by a panel of visionaries at the 8th FII Summit to explore how AI will reshape industries beyond the scope of large language models. Panelists include:  Dr. Kai-Fu Lee, Chairman & CEO, Sinovation Ventures, CEO, 01.AI  Richard Socher, CEO & Founder, you.com, Co-Founder & Managing Director, AIX Ventures Prem Akkaraju, CEO, Stability AI\n",
    "```"
   ]
  }
 ],
 "metadata": {
  "kernelspec": {
   "display_name": "myenv",
   "language": "python",
   "name": "python3"
  },
  "language_info": {
   "codemirror_mode": {
    "name": "ipython",
    "version": 3
   },
   "file_extension": ".py",
   "mimetype": "text/x-python",
   "name": "python",
   "nbconvert_exporter": "python",
   "pygments_lexer": "ipython3",
   "version": "3.12.4"
  },
  "widgets": {
   "application/vnd.jupyter.widget-state+json": {
    "state": {},
    "version_major": 2,
    "version_minor": 0
   }
  }
 },
 "nbformat": 4,
 "nbformat_minor": 4
}
