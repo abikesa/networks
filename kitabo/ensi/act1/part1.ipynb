{
 "cells": [
  {
   "cell_type": "markdown",
   "metadata": {},
   "source": [
    "(mind)=\n",
    "# Mind\n",
    "\n",
    "```{figure} https://www.harleytherapy.co.uk/counselling/wp-content/uploads/freud-and-jung.jpg\n",
    "---\n",
    "width: 100%\n",
    "height: 100%\n",
    "---\n",
    "_Static & Dynamic_. Jung and Freud each explored the terrain and cyclical rhythms of the mind, offering complementary perspectives rather than conflicting doctrines. As Nietzsche warned, \"One repays a teacher badly if one remains only a pupil. And why, then, should you not pluck at my laurels? You respect me; but how if one day your respect should tumble? Take care that a falling statue does not strike you dead! You had not yet sought yourselves when you found me. Thus do all believers — Now I bid you lose me and find yourselves; and only when you have all denied me will I return to you.\" (Quoted by Jung to Freud, 1912). This interplay of teacher and pupil underscores the evolution of their ideas as dynamic and iterative rather than static. Source: Harley Therapy Ltd. © 2006-2024. All rights reserved. [https://www.harleytherapy.co.uk](https://www.harleytherapy.co.uk).\n",
    "```\n",
    "\n",
    " "
   ]
  }
 ],
 "metadata": {
  "kernelspec": {
   "display_name": "myenv",
   "language": "python",
   "name": "python3"
  },
  "language_info": {
   "codemirror_mode": {
    "name": "ipython",
    "version": 3
   },
   "file_extension": ".py",
   "mimetype": "text/x-python",
   "name": "python",
   "nbconvert_exporter": "python",
   "pygments_lexer": "ipython3",
   "version": "3.12.4"
  },
  "widgets": {
   "application/vnd.jupyter.widget-state+json": {
    "state": {},
    "version_major": 2,
    "version_minor": 0
   }
  }
 },
 "nbformat": 4,
 "nbformat_minor": 4
}
