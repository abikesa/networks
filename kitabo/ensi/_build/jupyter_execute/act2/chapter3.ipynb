{
 "cells": [
  {
   "cell_type": "markdown",
   "metadata": {},
   "source": [
    "(detour)=\n",
    "# Detour\n",
    "\n",
    "To create two overlaid Kaplan-Meier survival curves showing hospital length of stay (LOS) for living kidney donors and a control population over 50 years old, the process can be broken into key steps:\n",
    "\n",
    "---\n",
    "\n",
    "### **Steps to Achieve the Kaplan-Meier Curves**\n",
    "1. **Prepare the Dataset**:\n",
    "   - Use the **National Inpatient Sample (NIS)** to extract relevant records.\n",
    "   - Identify two groups:\n",
    "     - **Group 1**: Living kidney donors, age > 50.\n",
    "     - **Group 2**: Control population, age > 50, excluding individuals with diagnoses related to kidney donation or severe kidney disease.\n",
    "   - Extract columns:\n",
    "     - Patient ID\n",
    "     - Hospital LOS (as the event time, capped at 30 days)\n",
    "     - Event indicator (0 for censored, 1 for discharge).\n",
    "\n",
    "2. **Subset and Filter Data**:\n",
    "   - Restrict the dataset to patients aged > 50.\n",
    "   - Exclude patients with missing LOS data or inappropriate discharge statuses (e.g., against medical advice).\n",
    "\n",
    "3. **Define Censoring**:\n",
    "   - Any patient still hospitalized after 30 days should be censored (event = 0).\n",
    "\n",
    "4. **Group Matching** (Optional but Recommended):\n",
    "   - Use propensity score matching (age, gender, comorbidities) to balance the two groups, ensuring comparability between donors and controls.\n",
    "\n",
    "5. **Fit Kaplan-Meier Models**:\n",
    "   - Fit separate Kaplan-Meier survival models for:\n",
    "     - Living kidney donors (Group 1).\n",
    "     - Control population (Group 2).\n",
    "\n",
    "6. **Overlay Survival Curves**:\n",
    "   - Plot the two Kaplan-Meier curves on the same axis for direct comparison.\n",
    "   - Time scale: Daily intervals from 0 to 30 days.\n",
    "\n",
    "7. **Statistical Comparison**:\n",
    "   - Use the **log-rank test** to assess the statistical significance of differences in LOS between the two groups.\n",
    "\n",
    "8. **Label and Customize the Plot**:\n",
    "   - X-axis: Time (Days).\n",
    "   - Y-axis: Survival Probability (Proportion still hospitalized).\n",
    "   - Add a legend to distinguish the two groups.\n",
    "\n",
    "---\n",
    "\n",
    "### **Expected Outcome**\n",
    "The Kaplan-Meier plot will visually display:\n",
    "- Proportion of patients remaining hospitalized over time for each group.\n",
    "- Differences in LOS patterns between kidney donors and the control group.\n",
    "\n",
    "If you provide the NIS dataset or a sample of it, I can preprocess it and generate these Kaplan-Meier curves for you. Let me know if you'd like assistance in writing the code or running the analysis!"
   ]
  }
 ],
 "metadata": {
  "kernelspec": {
   "display_name": "myenv",
   "language": "python",
   "name": "python3"
  },
  "language_info": {
   "codemirror_mode": {
    "name": "ipython",
    "version": 3
   },
   "file_extension": ".py",
   "mimetype": "text/x-python",
   "name": "python",
   "nbconvert_exporter": "python",
   "pygments_lexer": "ipython3",
   "version": "3.12.4"
  },
  "widgets": {
   "application/vnd.jupyter.widget-state+json": {
    "state": {},
    "version_major": 2,
    "version_minor": 0
   }
  }
 },
 "nbformat": 4,
 "nbformat_minor": 4
}