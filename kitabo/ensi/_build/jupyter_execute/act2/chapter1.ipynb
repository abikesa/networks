{
 "cells": [
  {
   "cell_type": "markdown",
   "metadata": {},
   "source": [
    "# Pharrel\n",
    "## Bet, Gamble, or Investment?\n",
    "\n",
    "*\"I tried 1000 times\" embodies the **risk** of persistence far more than the resources*\n",
    "\n",
    "---\n",
    "\n",
    "<iframe \n",
    "    src=\"https://www.youtube.com/embed/oJYxnrb3OWg\" \n",
    "    width=\"560\" \n",
    "    height=\"315\" \n",
    "    frameborder=\"0\" \n",
    "    allow=\"accelerometer; autoplay; clipboard-write; encrypted-media; gyroscope; picture-in-picture\" \n",
    "    allowfullscreen \n",
    "    title=\"YouTube video player\">\n",
    "</iframe>\n",
    "\n",
    "### **Resources & Strategy**\n",
    "- **Building Blocks**: The song’s \"Piece by Piece\" refrain mirrors the incremental progress of assembling a vision, akin to a *Lego Movie* construction. Each piece represents a lesson, a skill, or an insight gathered along the way.\n",
    "- **Motivation and Vision**: The drive to create something meaningful (\"Let me build what I see\") serves as the guiding resource throughout the journey.\n",
    "\n",
    "---\n",
    "\n",
    "### **Risk & Equilibria**\n",
    "- **Persistence as Gamble**: \"I tried 1000 times\" emphasizes the staggering **emotional and mental risk** of repeated failure. Each attempt is a roll of the dice—will this effort finally work, or will it collapse again?\n",
    "- **External Judgment**: Facing ridicule or doubt from others compounds the risk, as success hinges on proving oneself (\"If they hated, now they want to die\").\n",
    "- **Uncertainty of Outcome**: The process is not guaranteed; building \"piece by piece\" risks ending in disarray if the pieces fail to connect.\n",
    "\n",
    "---\n",
    "\n",
    "### **Reward & Payoff**\n",
    "- **Personal Fulfillment**: Triumphing after 1000 attempts brings a profound sense of accomplishment (\"It feels so good inside\").\n",
    "- **Validation**: The shift from doubt to admiration in others magnifies the reward (\"Screaming, 'I told you, I told you'\").\n",
    "- **Momentum for Growth**: The imagery of stacking bricks high conveys an ongoing trajectory of success, not just a single payoff.\n",
    "\n",
    "---\n",
    "\n",
    "### **Final Reflection**\n",
    "The iterative nature of risk, particularly in trying 1000 times, makes the eventual reward feel earned and transformative. The *Lego Movie* metaphor—assembling something extraordinary from small, overlooked pieces—parallels the songwriter’s journey of persistence, creativity, and ultimate triumph. This framing captures the essence of R-cubed beautifully."
   ]
  }
 ],
 "metadata": {
  "kernelspec": {
   "display_name": "myenv",
   "language": "python",
   "name": "python3"
  },
  "language_info": {
   "codemirror_mode": {
    "name": "ipython",
    "version": 3
   },
   "file_extension": ".py",
   "mimetype": "text/x-python",
   "name": "python",
   "nbconvert_exporter": "python",
   "pygments_lexer": "ipython3",
   "version": "3.12.4"
  },
  "widgets": {
   "application/vnd.jupyter.widget-state+json": {
    "state": {},
    "version_major": 2,
    "version_minor": 0
   }
  }
 },
 "nbformat": 4,
 "nbformat_minor": 4
}