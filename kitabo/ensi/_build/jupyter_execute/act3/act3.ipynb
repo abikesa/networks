{
 "cells": [
  {
   "cell_type": "markdown",
   "metadata": {},
   "source": [
    "# Relational\n",
    "\n",
    "<iframe \n",
    "    src=\"https://www.youtube.com/embed/SJYdnkopjFI\" \n",
    "    width=\"560\" \n",
    "    height=\"315\" \n",
    "    frameborder=\"0\" \n",
    "    allow=\"accelerometer; autoplay; clipboard-write; encrypted-media; gyroscope; picture-in-picture\" \n",
    "    allowfullscreen \n",
    "    title=\"YouTube video player\">\n",
    "</iframe>\n",
    "\n",
    "```{figure} ../figures/blanche.*\n",
    "---\n",
    "width: 1\n",
    "height: 1\n",
    "---\n",
    "_God Makes Order Out of Chaos at Beginning of Time_. The Post’s Rikki Schlott gets the tea on the new book from Canadian psychologist and author Jordan Peterson.  'We Who Wrestle With God' makes a case for truth, responsibility, and adventure being the same thing. Remember who you are: all learning is remembering according to Plato (top-down from Archetypes). \n",
    "```\n",
    "\n"
   ]
  }
 ],
 "metadata": {
  "kernelspec": {
   "display_name": "myenv",
   "language": "python",
   "name": "python3"
  },
  "language_info": {
   "codemirror_mode": {
    "name": "ipython",
    "version": 3
   },
   "file_extension": ".py",
   "mimetype": "text/x-python",
   "name": "python",
   "nbconvert_exporter": "python",
   "pygments_lexer": "ipython3",
   "version": "3.12.4"
  },
  "widgets": {
   "application/vnd.jupyter.widget-state+json": {
    "state": {},
    "version_major": 2,
    "version_minor": 0
   }
  }
 },
 "nbformat": 4,
 "nbformat_minor": 4
}